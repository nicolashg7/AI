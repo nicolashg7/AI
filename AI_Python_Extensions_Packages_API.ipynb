{
  "nbformat": 4,
  "nbformat_minor": 0,
  "metadata": {
    "colab": {
      "provenance": [],
      "authorship_tag": "ABX9TyNZ9ni+OAcQn44oywfzMjl7",
      "include_colab_link": true
    },
    "kernelspec": {
      "name": "python3",
      "display_name": "Python 3"
    },
    "language_info": {
      "name": "python"
    }
  },
  "cells": [
    {
      "cell_type": "markdown",
      "metadata": {
        "id": "view-in-github",
        "colab_type": "text"
      },
      "source": [
        "<a href=\"https://colab.research.google.com/github/nicolashg7/AI/blob/main/AI_Python_Extensions_Packages_API.ipynb\" target=\"_parent\"><img src=\"https://colab.research.google.com/assets/colab-badge.svg\" alt=\"Open In Colab\"/></a>"
      ]
    },
    {
      "cell_type": "code",
      "source": [
        "!pip install openai\n",
        "!pip install bs4\n",
        "!pip install python-dotenv"
      ],
      "metadata": {
        "id": "2gpSDcvSIihB",
        "collapsed": true
      },
      "execution_count": null,
      "outputs": []
    },
    {
      "cell_type": "code",
      "execution_count": null,
      "metadata": {
        "id": "mpnWZLLvSjqO",
        "collapsed": true
      },
      "outputs": [],
      "source": [
        "from google.colab import drive\n",
        "drive.mount('/content/drive')\n",
        "import sys\n",
        "sys.path.append('/content/drive/My Drive/AI/AI Python for Beginners: Extending Python with Packages and APIs')\n",
        "from transformers import pipeline\n",
        "import openai\n",
        "\n",
        "\n",
        "from dotenv import load_dotenv\n",
        "import os\n",
        "env_path = '/content/drive/My Drive/AI/AI Python for Beginners: Extending Python with Packages and APIs/.env'\n",
        "#print(os.path.exists(env_path))  # This should return True if the path is correct\n",
        "\n",
        "load_dotenv(env_path, override=True)\n",
        "openai.api_key = os.getenv('OPENAI_API_KEY')\n",
        "\n"
      ]
    },
    {
      "cell_type": "code",
      "source": [
        "import kagglehub\n",
        "import pandas as pd\n",
        "import os\n",
        "\n",
        "# Download the latest version of the dataset\n",
        "path = kagglehub.dataset_download(\"arslaan5/global-data-gdp-life-expectancy-and-more\")\n",
        "print(\"Path to dataset files:\", path)\n",
        "\n",
        "# List files in the dataset directory to see available files\n",
        "print(\"Files in dataset:\", os.listdir(path))\n",
        "\n",
        "# Load a specific file into a DataFrame (replace 'your_file.csv' with the actual filename)\n",
        "data = pd.read_csv(os.path.join(path, \"country_data.csv\"))\n",
        "\n",
        "data.set_index('name',inplace = True)\n",
        "\n",
        "# Display the first few rows of the dataset\n",
        "print(data.head)"
      ],
      "metadata": {
        "id": "U9OrCxyU0vHI"
      },
      "execution_count": null,
      "outputs": []
    },
    {
      "cell_type": "code",
      "source": [
        "import matplotlib.pyplot as plt\n",
        "import numpy as np\n",
        "\n",
        "plt.figure(figsize=(10, 6))\n",
        "\n",
        "datanew = data[data['gdp_per_capita']<50000]\n",
        "\n",
        "plt.scatter(datanew['gdp_per_capita'], datanew['tourists'])\n",
        "\n",
        "plt.title('Tourists vs. GDP per Capita', fontsize=16)\n",
        "plt.xlabel('GDP per Capita')\n",
        "plt.ylabel('Tourists')\n",
        "\n",
        "plt.grid(True)\n",
        "gdpstep = 1000\n",
        "\n",
        "gdp_min = int(datanew['gdp_per_capita'].min()//gdpstep*gdpstep)\n",
        "gdp_max = int(datanew['gdp_per_capita'].max()//gdpstep*gdpstep + gdpstep)\n",
        "\n",
        "gdp_ticks = np.arange(gdp_min, gdp_max + 1, gdpstep)  # Increase step size if range is too large\n",
        "plt.xticks(gdp_ticks, rotation=45, ha='right')\n",
        "\n",
        "plt.tight_layout()  # Adjust layout to fit\n",
        "plt.show()"
      ],
      "metadata": {
        "id": "zsO8ythP0y3K"
      },
      "execution_count": null,
      "outputs": []
    },
    {
      "cell_type": "code",
      "source": [
        "from bs4 import BeautifulSoup as bs\n",
        "from IPython.display import HTML, display, IFrame\n",
        "import requests\n",
        "from helper_functions import ask_chatgpt # type: ignore\n",
        "\n",
        "url = \"https://www.20minutos.es/noticia/5650111/0/los-vecinos-olvidados-de-alfafar-tras-la-dana-aqui-no-ha-venido-nadie-somos-nosotros-los-que-estamos-retirando-los-coches/\"\n",
        "#url = \"https://app.tikr.com/stock/transcript?cid=260345878&tid=378706271&e=1898398677&ts=3286071&ref=k9xx85\"\n",
        "\n",
        "page = requests.get(url)\n",
        "IFrame(src=url, width = \"60%\", height = \"400\")\n",
        "\n",
        "soup = bs(page.text, \"html.parser\")\n",
        "all_text = soup.find_all('p')\n",
        "combined_text = \"\"\n",
        "for text in all_text:\n",
        "   combined_text = combined_text + \"\\n\" + text.get_text()\n",
        "\n",
        "prompt = (f\"\"\"\n",
        "Summarise the following news in 4 or 5 key points\n",
        "{combined_text}\n",
        "\"\"\"\n",
        ")\n",
        "\n",
        "response = ask_chatgpt(prompt)\n",
        "print(response)\n"
      ],
      "metadata": {
        "id": "-UsE-V9M01yY",
        "collapsed": true
      },
      "execution_count": null,
      "outputs": []
    },
    {
      "cell_type": "code",
      "source": [
        "prompt = (f\"What is the capital of France?\")\n",
        "response = ask_chatgpt(prompt)\n",
        "print(response)"
      ],
      "metadata": {
        "id": "uV4iy-TN1ya-"
      },
      "execution_count": null,
      "outputs": []
    },
    {
      "cell_type": "code",
      "source": [
        "import requests\n",
        "import pandas as pd\n",
        "from dotenv import load_dotenv\n",
        "import os\n",
        "\n",
        "load_dotenv('.env', override=True)\n",
        "api_key = os.getenv('ALPHAVANTAGE_API_KEY')\n",
        "\n",
        "ticker = 'MSFT'\n",
        "\n",
        "url = f\"https://www.alphavantage.co/query?function=EARNINGS&symbol={ticker}&apikey={api_key}\"\n",
        "r = requests.get(url)\n",
        "data = r.json()\n",
        "\n",
        "# Convert to a DataFrame\n",
        "df = pd.DataFrame(data['annualEarnings'])\n",
        "\n",
        "# Display the table\n",
        "df"
      ],
      "metadata": {
        "id": "GF2a1BRu47nb"
      },
      "execution_count": null,
      "outputs": []
    }
  ]
}